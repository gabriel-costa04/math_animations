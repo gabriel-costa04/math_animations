{
 "cells": [
  {
   "cell_type": "code",
   "execution_count": 1,
   "id": "dd3c60bf-1c37-4d60-affd-73e2ee7bddbb",
   "metadata": {},
   "outputs": [],
   "source": [
    "import numpy as np"
   ]
  },
  {
   "cell_type": "code",
   "execution_count": 2,
   "id": "ff4e7f87-06b1-413a-bd3b-85d5e8cc371c",
   "metadata": {},
   "outputs": [],
   "source": [
    "import pandas as pd"
   ]
  },
  {
   "cell_type": "code",
   "execution_count": 8,
   "id": "e34dc0af-4834-4fbb-bde3-1ff7f55e0f76",
   "metadata": {},
   "outputs": [],
   "source": [
    "array = np.arange(0,10,1)"
   ]
  },
  {
   "cell_type": "code",
   "execution_count": 10,
   "id": "19a3cd80-21bd-4e58-8940-c24090061463",
   "metadata": {},
   "outputs": [
    {
     "name": "stdout",
     "output_type": "stream",
     "text": [
      "Collecting manim\n",
      "  Downloading manim-0.18.1-py3-none-any.whl.metadata (10 kB)\n",
      "Requirement already satisfied: Pillow>=9.1 in c:\\users\\gabriel\\appdata\\local\\programs\\python\\python312\\lib\\site-packages (from manim) (10.2.0)\n",
      "Requirement already satisfied: Pygments>=2.0.0 in c:\\users\\gabriel\\appdata\\roaming\\python\\python312\\site-packages (from manim) (2.17.2)\n",
      "Requirement already satisfied: click>=8.0 in c:\\users\\gabriel\\appdata\\local\\programs\\python\\python312\\lib\\site-packages (from manim) (8.1.7)\n",
      "Collecting cloup>=2.0.0 (from manim)\n",
      "  Downloading cloup-3.0.5-py2.py3-none-any.whl.metadata (6.7 kB)\n",
      "Requirement already satisfied: decorator>=4.3.2 in c:\\users\\gabriel\\appdata\\roaming\\python\\python312\\site-packages (from manim) (5.1.1)\n",
      "Collecting isosurfaces>=0.1.0 (from manim)\n",
      "  Downloading isosurfaces-0.1.2-py3-none-any.whl.metadata (3.3 kB)\n",
      "Collecting manimpango<1.0.0,>=0.5.0 (from manim)\n",
      "  Downloading ManimPango-0.6.0-cp312-cp312-win_amd64.whl.metadata (8.2 kB)\n",
      "Collecting mapbox-earcut>=1.0.0 (from manim)\n",
      "  Downloading mapbox_earcut-1.0.2-cp312-cp312-win_amd64.whl.metadata (2.2 kB)\n",
      "Collecting moderngl<6.0.0,>=5.0.0 (from manim)\n",
      "  Downloading moderngl-5.11.1-cp312-cp312-win_amd64.whl.metadata (5.5 kB)\n",
      "Collecting moderngl-window>=2.0.0 (from manim)\n",
      "  Downloading moderngl_window-2.4.6-py3-none-any.whl.metadata (8.8 kB)\n",
      "Requirement already satisfied: networkx>=2.6 in c:\\users\\gabriel\\appdata\\local\\programs\\python\\python312\\lib\\site-packages (from manim) (3.3)\n",
      "Requirement already satisfied: numpy>=1.26 in c:\\users\\gabriel\\appdata\\local\\programs\\python\\python312\\lib\\site-packages (from manim) (1.26.3)\n",
      "Collecting pycairo<2.0.0,>=1.13 (from manim)\n",
      "  Downloading pycairo-1.27.0-cp312-cp312-win_amd64.whl.metadata (2.3 kB)\n",
      "Collecting pydub>=0.20.0 (from manim)\n",
      "  Downloading pydub-0.25.1-py2.py3-none-any.whl.metadata (1.4 kB)\n",
      "Requirement already satisfied: rich>=12.0.0 in c:\\users\\gabriel\\appdata\\local\\programs\\python\\python312\\lib\\site-packages (from manim) (13.7.1)\n",
      "Requirement already satisfied: scipy>=1.6.0 in c:\\users\\gabriel\\appdata\\local\\programs\\python\\python312\\lib\\site-packages (from manim) (1.11.4)\n",
      "Collecting screeninfo>=0.7 (from manim)\n",
      "  Downloading screeninfo-0.8.1-py3-none-any.whl.metadata (2.9 kB)\n",
      "Collecting skia-pathops>=0.7.0 (from manim)\n",
      "  Downloading skia_pathops-0.8.0.post1-cp312-cp312-win_amd64.whl.metadata (2.4 kB)\n",
      "Collecting srt>=3.0.0 (from manim)\n",
      "  Downloading srt-3.5.3.tar.gz (28 kB)\n",
      "  Preparing metadata (setup.py): started\n",
      "  Preparing metadata (setup.py): finished with status 'done'\n",
      "Collecting svgelements>=1.8.0 (from manim)\n",
      "  Downloading svgelements-1.9.6-py2.py3-none-any.whl.metadata (44 kB)\n",
      "Requirement already satisfied: tqdm>=4.0.0 in c:\\users\\gabriel\\appdata\\local\\programs\\python\\python312\\lib\\site-packages (from manim) (4.66.4)\n",
      "Requirement already satisfied: typing-extensions>=4.0.0 in c:\\users\\gabriel\\appdata\\local\\programs\\python\\python312\\lib\\site-packages (from manim) (4.10.0)\n",
      "Collecting watchdog>=2.0.0 (from manim)\n",
      "  Downloading watchdog-5.0.3-py3-none-win_amd64.whl.metadata (41 kB)\n",
      "Requirement already satisfied: colorama in c:\\users\\gabriel\\appdata\\roaming\\python\\python312\\site-packages (from click>=8.0->manim) (0.4.6)\n",
      "Collecting glcontext>=3.0.0 (from moderngl<6.0.0,>=5.0.0->manim)\n",
      "  Downloading glcontext-3.0.0-cp312-cp312-win_amd64.whl.metadata (6.2 kB)\n",
      "Collecting pyglet>=2.0.0 (from moderngl-window>=2.0.0->manim)\n",
      "  Downloading pyglet-2.0.17-py3-none-any.whl.metadata (7.9 kB)\n",
      "Collecting pyrr<1,>=0.10.3 (from moderngl-window>=2.0.0->manim)\n",
      "  Downloading pyrr-0.10.3-py3-none-any.whl.metadata (832 bytes)\n",
      "Requirement already satisfied: markdown-it-py>=2.2.0 in c:\\users\\gabriel\\appdata\\local\\programs\\python\\python312\\lib\\site-packages (from rich>=12.0.0->manim) (3.0.0)\n",
      "Requirement already satisfied: mdurl~=0.1 in c:\\users\\gabriel\\appdata\\local\\programs\\python\\python312\\lib\\site-packages (from markdown-it-py>=2.2.0->rich>=12.0.0->manim) (0.1.2)\n",
      "Collecting multipledispatch (from pyrr<1,>=0.10.3->moderngl-window>=2.0.0->manim)\n",
      "  Downloading multipledispatch-1.0.0-py3-none-any.whl.metadata (3.8 kB)\n",
      "Downloading manim-0.18.1-py3-none-any.whl (585 kB)\n",
      "   ---------------------------------------- 0.0/585.2 kB ? eta -:--:--\n",
      "   ---------------------------------- ---- 524.3/585.2 kB 16.4 MB/s eta 0:00:01\n",
      "   ---------------------------------- ---- 524.3/585.2 kB 16.4 MB/s eta 0:00:01\n",
      "   ---------------------------------- ---- 524.3/585.2 kB 16.4 MB/s eta 0:00:01\n",
      "   -------------------------------------- 585.2/585.2 kB 449.4 kB/s eta 0:00:00\n",
      "Downloading cloup-3.0.5-py2.py3-none-any.whl (54 kB)\n",
      "Downloading isosurfaces-0.1.2-py3-none-any.whl (11 kB)\n",
      "Downloading ManimPango-0.6.0-cp312-cp312-win_amd64.whl (4.1 MB)\n",
      "   ---------------------------------------- 0.0/4.1 MB ? eta -:--:--\n",
      "   ----------------------------------- ---- 3.7/4.1 MB 15.6 MB/s eta 0:00:01\n",
      "   ---------------------------------------- 4.1/4.1 MB 13.7 MB/s eta 0:00:00\n",
      "Downloading mapbox_earcut-1.0.2-cp312-cp312-win_amd64.whl (73 kB)\n",
      "Downloading moderngl-5.11.1-cp312-cp312-win_amd64.whl (103 kB)\n",
      "Downloading moderngl_window-2.4.6-py3-none-any.whl (370 kB)\n",
      "Downloading pycairo-1.27.0-cp312-cp312-win_amd64.whl (844 kB)\n",
      "   ---------------------------------------- 0.0/844.1 kB ? eta -:--:--\n",
      "   --------------------------------------- 844.1/844.1 kB 18.8 MB/s eta 0:00:00\n",
      "Downloading pydub-0.25.1-py2.py3-none-any.whl (32 kB)\n",
      "Downloading screeninfo-0.8.1-py3-none-any.whl (12 kB)\n",
      "Downloading skia_pathops-0.8.0.post1-cp312-cp312-win_amd64.whl (2.9 MB)\n",
      "   ---------------------------------------- 0.0/2.9 MB ? eta -:--:--\n",
      "   ---------------------------------------- 2.9/2.9 MB 14.2 MB/s eta 0:00:00\n",
      "Downloading svgelements-1.9.6-py2.py3-none-any.whl (137 kB)\n",
      "Downloading watchdog-5.0.3-py3-none-win_amd64.whl (79 kB)\n",
      "Downloading glcontext-3.0.0-cp312-cp312-win_amd64.whl (12 kB)\n",
      "Downloading pyglet-2.0.17-py3-none-any.whl (936 kB)\n",
      "   ---------------------------------------- 0.0/936.6 kB ? eta -:--:--\n",
      "   --------------------------------------- 936.6/936.6 kB 21.1 MB/s eta 0:00:00\n",
      "Downloading pyrr-0.10.3-py3-none-any.whl (46 kB)\n",
      "Downloading multipledispatch-1.0.0-py3-none-any.whl (12 kB)\n",
      "Building wheels for collected packages: srt\n",
      "  Building wheel for srt (setup.py): started\n",
      "  Building wheel for srt (setup.py): finished with status 'done'\n",
      "  Created wheel for srt: filename=srt-3.5.3-py3-none-any.whl size=22556 sha256=7babeb1fb3eccd33a3abcb1e475eca057a2bb5ff7b30a444093d48ed429bf92e\n",
      "  Stored in directory: c:\\users\\gabriel\\appdata\\local\\pip\\cache\\wheels\\7e\\75\\5b\\e1d5c3756631e4bda806f6cc9640153b39484bb6f7b0b8def3\n",
      "Successfully built srt\n",
      "Installing collected packages: svgelements, pydub, multipledispatch, glcontext, watchdog, srt, skia-pathops, screeninfo, pyrr, pyglet, pycairo, moderngl, mapbox-earcut, manimpango, isosurfaces, moderngl-window, cloup, manim\n",
      "Successfully installed cloup-3.0.5 glcontext-3.0.0 isosurfaces-0.1.2 manim-0.18.1 manimpango-0.6.0 mapbox-earcut-1.0.2 moderngl-5.11.1 moderngl-window-2.4.6 multipledispatch-1.0.0 pycairo-1.27.0 pydub-0.25.1 pyglet-2.0.17 pyrr-0.10.3 screeninfo-0.8.1 skia-pathops-0.8.0.post1 srt-3.5.3 svgelements-1.9.6 watchdog-5.0.3\n"
     ]
    }
   ],
   "source": [
    "# Certifique-se de que a biblioteca Manim está instalada\n",
    "!pip install manim"
   ]
  },
  {
   "cell_type": "code",
   "execution_count": 11,
   "id": "8a0cc823-8478-4ef7-9e73-14dfecf3e077",
   "metadata": {},
   "outputs": [
    {
     "name": "stderr",
     "output_type": "stream",
     "text": [
      "C:\\Users\\Gabriel\\AppData\\Local\\Programs\\Python\\Python312\\Lib\\site-packages\\pydub\\utils.py:170: RuntimeWarning: Couldn't find ffmpeg or avconv - defaulting to ffmpeg, but may not work\n",
      "  warn(\"Couldn't find ffmpeg or avconv - defaulting to ffmpeg, but may not work\", RuntimeWarning)\n"
     ]
    }
   ],
   "source": [
    "from manim import *"
   ]
  },
  {
   "cell_type": "code",
   "execution_count": 5,
   "id": "125b707f-2487-4930-a36e-cd5cc4c5e821",
   "metadata": {},
   "outputs": [
    {
     "name": "stdout",
     "output_type": "stream",
     "text": [
      "[0 1 2 3 4 5 6 7 8 9]\n"
     ]
    }
   ],
   "source": [
    "print(array)"
   ]
  },
  {
   "cell_type": "code",
   "execution_count": 12,
   "id": "cb38928e-193f-4cc0-bc93-ed8447442786",
   "metadata": {},
   "outputs": [
    {
     "ename": "RuntimeError",
     "evalue": "Manim could not find ffmpeg, which is required for generating video output.\nFor installing ffmpeg please consult https://docs.manim.community/en/stable/installation.html\nMake sure to either add ffmpeg to the PATH environment variable\nor set path to the ffmpeg executable under the ffmpeg header in Manim's configuration.",
     "output_type": "error",
     "traceback": [
      "\u001b[1;31m---------------------------------------------------------------------------\u001b[0m",
      "\u001b[1;31mRuntimeError\u001b[0m                              Traceback (most recent call last)",
      "Cell \u001b[1;32mIn[12], line 1\u001b[0m\n\u001b[1;32m----> 1\u001b[0m \u001b[43mget_ipython\u001b[49m\u001b[43m(\u001b[49m\u001b[43m)\u001b[49m\u001b[38;5;241;43m.\u001b[39;49m\u001b[43mrun_cell_magic\u001b[49m\u001b[43m(\u001b[49m\u001b[38;5;124;43m'\u001b[39;49m\u001b[38;5;124;43mmanim\u001b[39;49m\u001b[38;5;124;43m'\u001b[39;49m\u001b[43m,\u001b[49m\u001b[43m \u001b[49m\u001b[38;5;124;43m'\u001b[39;49m\u001b[38;5;124;43m-qm -v WARNING RollingDisk\u001b[39;49m\u001b[38;5;124;43m'\u001b[39;49m\u001b[43m,\u001b[49m\u001b[43m \u001b[49m\u001b[38;5;124;43m'\u001b[39;49m\u001b[38;5;124;43mclass RollingDisk(Scene):\u001b[39;49m\u001b[38;5;130;43;01m\\n\u001b[39;49;00m\u001b[38;5;124;43m    def construct(self):\u001b[39;49m\u001b[38;5;130;43;01m\\n\u001b[39;49;00m\u001b[38;5;124;43m        # Definir parâmetros\u001b[39;49m\u001b[38;5;130;43;01m\\n\u001b[39;49;00m\u001b[38;5;124;43m        radius = 2  # Raio do círculo\u001b[39;49m\u001b[38;5;130;43;01m\\n\u001b[39;49;00m\u001b[38;5;124;43m        velocity = 2  # Velocidade linear do centro de massa\u001b[39;49m\u001b[38;5;130;43;01m\\n\u001b[39;49;00m\u001b[38;5;124;43m        omega = velocity / radius  # Velocidade angular\u001b[39;49m\u001b[38;5;130;43;01m\\n\u001b[39;49;00m\u001b[38;5;124;43m        disk_color = BLUE\u001b[39;49m\u001b[38;5;130;43;01m\\n\u001b[39;49;00m\u001b[38;5;130;43;01m\\n\u001b[39;49;00m\u001b[38;5;124;43m        # Criar o disco (corpo rígido) e posicioná-lo à esquerda\u001b[39;49m\u001b[38;5;130;43;01m\\n\u001b[39;49;00m\u001b[38;5;124;43m        disk = Circle(radius=radius, color=disk_color)\u001b[39;49m\u001b[38;5;130;43;01m\\n\u001b[39;49;00m\u001b[38;5;124;43m        disk.shift(3 * LEFT)  # Inicia deslocado para a esquerda\u001b[39;49m\u001b[38;5;130;43;01m\\n\u001b[39;49;00m\u001b[38;5;124;43m        \u001b[39;49m\u001b[38;5;130;43;01m\\n\u001b[39;49;00m\u001b[38;5;124;43m        # Vetores de velocidade e aceleração\u001b[39;49m\u001b[38;5;130;43;01m\\n\u001b[39;49;00m\u001b[38;5;124;43m        velocity_vectors = VGroup()\u001b[39;49m\u001b[38;5;130;43;01m\\n\u001b[39;49;00m\u001b[38;5;124;43m        acceleration_vectors = VGroup()\u001b[39;49m\u001b[38;5;130;43;01m\\n\u001b[39;49;00m\u001b[38;5;124;43m        dashed_lines = VGroup()\u001b[39;49m\u001b[38;5;130;43;01m\\n\u001b[39;49;00m\u001b[38;5;130;43;01m\\n\u001b[39;49;00m\u001b[38;5;124;43m        # Função que cria retas tracejadas e vetores de velocidade/aceleração\u001b[39;49m\u001b[38;5;130;43;01m\\n\u001b[39;49;00m\u001b[38;5;124;43m        def add_velocity_and_acceleration_vectors():\u001b[39;49m\u001b[38;5;130;43;01m\\n\u001b[39;49;00m\u001b[38;5;124;43m            nonlocal dashed_lines, velocity_vectors, acceleration_vectors\u001b[39;49m\u001b[38;5;130;43;01m\\n\u001b[39;49;00m\u001b[38;5;124;43m            \u001b[39;49m\u001b[38;5;130;43;01m\\n\u001b[39;49;00m\u001b[38;5;124;43m            # Coordenadas de alguns pontos na borda do disco\u001b[39;49m\u001b[38;5;130;43;01m\\n\u001b[39;49;00m\u001b[38;5;124;43m            angles = np.linspace(0, 2*np.pi, 8, endpoint=False)\u001b[39;49m\u001b[38;5;130;43;01m\\n\u001b[39;49;00m\u001b[38;5;124;43m            cir_point = disk.get_bottom()  # Ponto CIR (contato com o chão)\u001b[39;49m\u001b[38;5;130;43;01m\\n\u001b[39;49;00m\u001b[38;5;124;43m            \u001b[39;49m\u001b[38;5;130;43;01m\\n\u001b[39;49;00m\u001b[38;5;124;43m            for angle in angles:\u001b[39;49m\u001b[38;5;130;43;01m\\n\u001b[39;49;00m\u001b[38;5;124;43m                # Ponto na borda do disco\u001b[39;49m\u001b[38;5;130;43;01m\\n\u001b[39;49;00m\u001b[38;5;124;43m                point = disk.get_center() + radius * np.array([np.cos(angle), np.sin(angle), 0])\u001b[39;49m\u001b[38;5;130;43;01m\\n\u001b[39;49;00m\u001b[38;5;124;43m                # Distância do ponto ao CIR (módulo da velocidade proporcional à distância)\u001b[39;49m\u001b[38;5;130;43;01m\\n\u001b[39;49;00m\u001b[38;5;124;43m                distance_to_cir = np.linalg.norm(point - cir_point)\u001b[39;49m\u001b[38;5;130;43;01m\\n\u001b[39;49;00m\u001b[38;5;124;43m                \u001b[39;49m\u001b[38;5;130;43;01m\\n\u001b[39;49;00m\u001b[38;5;124;43m                # Reta tracejada entre o ponto e o CIR\u001b[39;49m\u001b[38;5;130;43;01m\\n\u001b[39;49;00m\u001b[38;5;124;43m                dashed_line = DashedLine(cir_point, point, color=WHITE)\u001b[39;49m\u001b[38;5;130;43;01m\\n\u001b[39;49;00m\u001b[38;5;124;43m                dashed_lines.add(dashed_line)\u001b[39;49m\u001b[38;5;130;43;01m\\n\u001b[39;49;00m\u001b[38;5;124;43m                \u001b[39;49m\u001b[38;5;130;43;01m\\n\u001b[39;49;00m\u001b[38;5;124;43m                # Vetor de velocidade perpendicular à reta entre o ponto e o CIR\u001b[39;49m\u001b[38;5;130;43;01m\\n\u001b[39;49;00m\u001b[38;5;124;43m                direction_to_cir = point - cir_point\u001b[39;49m\u001b[38;5;130;43;01m\\n\u001b[39;49;00m\u001b[38;5;124;43m                velocity_direction = np.array([-direction_to_cir[1], direction_to_cir[0], 0]) / np.linalg.norm(direction_to_cir)\u001b[39;49m\u001b[38;5;130;43;01m\\n\u001b[39;49;00m\u001b[38;5;124;43m                velocity_vector = Arrow(point, point + 0.5 * distance_to_cir * velocity_direction, buff=0, color=GREEN)\u001b[39;49m\u001b[38;5;130;43;01m\\n\u001b[39;49;00m\u001b[38;5;124;43m                velocity_vectors.add(velocity_vector)\u001b[39;49m\u001b[38;5;130;43;01m\\n\u001b[39;49;00m\u001b[38;5;124;43m                \u001b[39;49m\u001b[38;5;130;43;01m\\n\u001b[39;49;00m\u001b[38;5;124;43m                # Vetor de aceleração (direção radial oposta)\u001b[39;49m\u001b[38;5;130;43;01m\\n\u001b[39;49;00m\u001b[38;5;124;43m                acceleration_vector = Arrow(point, point - 0.5 * np.array([np.cos(angle), np.sin(angle), 0]), buff=0, color=RED)\u001b[39;49m\u001b[38;5;130;43;01m\\n\u001b[39;49;00m\u001b[38;5;124;43m                acceleration_vectors.add(acceleration_vector)\u001b[39;49m\u001b[38;5;130;43;01m\\n\u001b[39;49;00m\u001b[38;5;130;43;01m\\n\u001b[39;49;00m\u001b[38;5;124;43m        # Movimentar o disco da esquerda para a direita\u001b[39;49m\u001b[38;5;130;43;01m\\n\u001b[39;49;00m\u001b[38;5;124;43m        self.play(disk.animate.shift(6 * RIGHT), run_time=3)\u001b[39;49m\u001b[38;5;130;43;01m\\n\u001b[39;49;00m\u001b[38;5;124;43m        self.wait()\u001b[39;49m\u001b[38;5;130;43;01m\\n\u001b[39;49;00m\u001b[38;5;130;43;01m\\n\u001b[39;49;00m\u001b[38;5;124;43m        # Pausar e aplicar zoom movendo o disco para o centro da cena\u001b[39;49m\u001b[38;5;130;43;01m\\n\u001b[39;49;00m\u001b[38;5;124;43m        self.play(disk.animate.move_to(ORIGIN), run_time=2)\u001b[39;49m\u001b[38;5;130;43;01m\\n\u001b[39;49;00m\u001b[38;5;124;43m        self.wait()\u001b[39;49m\u001b[38;5;130;43;01m\\n\u001b[39;49;00m\u001b[38;5;130;43;01m\\n\u001b[39;49;00m\u001b[38;5;124;43m        # Mostrar o CIR (Centro Instantâneo de Rotação)\u001b[39;49m\u001b[38;5;130;43;01m\\n\u001b[39;49;00m\u001b[38;5;124;43m        cir = Dot(disk.get_bottom(), color=RED)\u001b[39;49m\u001b[38;5;130;43;01m\\n\u001b[39;49;00m\u001b[38;5;124;43m        cir_text = Text(\u001b[39;49m\u001b[38;5;124;43m\"\u001b[39;49m\u001b[38;5;124;43mCIR\u001b[39;49m\u001b[38;5;124;43m\"\u001b[39;49m\u001b[38;5;124;43m, font_size=24).next_to(cir, DOWN)\u001b[39;49m\u001b[38;5;130;43;01m\\n\u001b[39;49;00m\u001b[38;5;124;43m        self.play(FadeIn(cir, cir_text))\u001b[39;49m\u001b[38;5;130;43;01m\\n\u001b[39;49;00m\u001b[38;5;124;43m        self.wait()\u001b[39;49m\u001b[38;5;130;43;01m\\n\u001b[39;49;00m\u001b[38;5;130;43;01m\\n\u001b[39;49;00m\u001b[38;5;124;43m        # Adicionar retas tracejadas e vetores de velocidade e aceleração\u001b[39;49m\u001b[38;5;130;43;01m\\n\u001b[39;49;00m\u001b[38;5;124;43m        add_velocity_and_acceleration_vectors()\u001b[39;49m\u001b[38;5;130;43;01m\\n\u001b[39;49;00m\u001b[38;5;124;43m        self.play(Create(dashed_lines), run_time=2)\u001b[39;49m\u001b[38;5;130;43;01m\\n\u001b[39;49;00m\u001b[38;5;124;43m        self.wait()\u001b[39;49m\u001b[38;5;130;43;01m\\n\u001b[39;49;00m\u001b[38;5;130;43;01m\\n\u001b[39;49;00m\u001b[38;5;124;43m        # Mostrar vetores de velocidade nos pontos da borda\u001b[39;49m\u001b[38;5;130;43;01m\\n\u001b[39;49;00m\u001b[38;5;124;43m        self.play(Create(velocity_vectors), run_time=2)\u001b[39;49m\u001b[38;5;130;43;01m\\n\u001b[39;49;00m\u001b[38;5;124;43m        self.wait()\u001b[39;49m\u001b[38;5;130;43;01m\\n\u001b[39;49;00m\u001b[38;5;130;43;01m\\n\u001b[39;49;00m\u001b[38;5;124;43m        # Mostrar vetores de aceleração nos pontos da borda\u001b[39;49m\u001b[38;5;130;43;01m\\n\u001b[39;49;00m\u001b[38;5;124;43m        self.play(Create(acceleration_vectors), run_time=2)\u001b[39;49m\u001b[38;5;130;43;01m\\n\u001b[39;49;00m\u001b[38;5;124;43m        self.wait()\u001b[39;49m\u001b[38;5;130;43;01m\\n\u001b[39;49;00m\u001b[38;5;130;43;01m\\n\u001b[39;49;00m\u001b[38;5;124;43m        # Mostrar o ponto central do disco no final\u001b[39;49m\u001b[38;5;130;43;01m\\n\u001b[39;49;00m\u001b[38;5;124;43m        center_dot = Dot(disk.get_center(), color=YELLOW)\u001b[39;49m\u001b[38;5;130;43;01m\\n\u001b[39;49;00m\u001b[38;5;124;43m        center_text = Text(\u001b[39;49m\u001b[38;5;124;43m\"\u001b[39;49m\u001b[38;5;124;43mCentro\u001b[39;49m\u001b[38;5;124;43m\"\u001b[39;49m\u001b[38;5;124;43m, font_size=24).next_to(center_dot, UP)\u001b[39;49m\u001b[38;5;130;43;01m\\n\u001b[39;49;00m\u001b[38;5;124;43m        self.play(FadeIn(center_dot, center_text))\u001b[39;49m\u001b[38;5;130;43;01m\\n\u001b[39;49;00m\u001b[38;5;124;43m        self.wait()\u001b[39;49m\u001b[38;5;130;43;01m\\n\u001b[39;49;00m\u001b[38;5;130;43;01m\\n\u001b[39;49;00m\u001b[38;5;124;43m        # Finalizar a cena\u001b[39;49m\u001b[38;5;130;43;01m\\n\u001b[39;49;00m\u001b[38;5;124;43m        self.wait()\u001b[39;49m\u001b[38;5;130;43;01m\\n\u001b[39;49;00m\u001b[38;5;130;43;01m\\n\u001b[39;49;00m\u001b[38;5;124;43m# Renderizando a cena\u001b[39;49m\u001b[38;5;130;43;01m\\n\u001b[39;49;00m\u001b[38;5;124;43mRollingDisk().render()\u001b[39;49m\u001b[38;5;130;43;01m\\n\u001b[39;49;00m\u001b[38;5;124;43m'\u001b[39;49m\u001b[43m)\u001b[49m\n",
      "File \u001b[1;32m~\\AppData\\Roaming\\Python\\Python312\\site-packages\\IPython\\core\\interactiveshell.py:2517\u001b[0m, in \u001b[0;36mInteractiveShell.run_cell_magic\u001b[1;34m(self, magic_name, line, cell)\u001b[0m\n\u001b[0;32m   2515\u001b[0m \u001b[38;5;28;01mwith\u001b[39;00m \u001b[38;5;28mself\u001b[39m\u001b[38;5;241m.\u001b[39mbuiltin_trap:\n\u001b[0;32m   2516\u001b[0m     args \u001b[38;5;241m=\u001b[39m (magic_arg_s, cell)\n\u001b[1;32m-> 2517\u001b[0m     result \u001b[38;5;241m=\u001b[39m \u001b[43mfn\u001b[49m\u001b[43m(\u001b[49m\u001b[38;5;241;43m*\u001b[39;49m\u001b[43margs\u001b[49m\u001b[43m,\u001b[49m\u001b[43m \u001b[49m\u001b[38;5;241;43m*\u001b[39;49m\u001b[38;5;241;43m*\u001b[39;49m\u001b[43mkwargs\u001b[49m\u001b[43m)\u001b[49m\n\u001b[0;32m   2519\u001b[0m \u001b[38;5;66;03m# The code below prevents the output from being displayed\u001b[39;00m\n\u001b[0;32m   2520\u001b[0m \u001b[38;5;66;03m# when using magics with decorator @output_can_be_silenced\u001b[39;00m\n\u001b[0;32m   2521\u001b[0m \u001b[38;5;66;03m# when the last Python token in the expression is a ';'.\u001b[39;00m\n\u001b[0;32m   2522\u001b[0m \u001b[38;5;28;01mif\u001b[39;00m \u001b[38;5;28mgetattr\u001b[39m(fn, magic\u001b[38;5;241m.\u001b[39mMAGIC_OUTPUT_CAN_BE_SILENCED, \u001b[38;5;28;01mFalse\u001b[39;00m):\n",
      "File \u001b[1;32m~\\AppData\\Local\\Programs\\Python\\Python312\\Lib\\site-packages\\manim\\utils\\ipython_magic.py:122\u001b[0m, in \u001b[0;36mManimMagic.manim\u001b[1;34m(self, line, cell, local_ns)\u001b[0m\n\u001b[0;32m     48\u001b[0m \u001b[38;5;250m\u001b[39m\u001b[38;5;124mr\u001b[39m\u001b[38;5;124;03m\"\"\"Render Manim scenes contained in IPython cells.\u001b[39;00m\n\u001b[0;32m     49\u001b[0m \u001b[38;5;124;03mWorks as a line or cell magic.\u001b[39;00m\n\u001b[0;32m     50\u001b[0m \n\u001b[1;32m   (...)\u001b[0m\n\u001b[0;32m    119\u001b[0m \n\u001b[0;32m    120\u001b[0m \u001b[38;5;124;03m\"\"\"\u001b[39;00m\n\u001b[0;32m    121\u001b[0m \u001b[38;5;28;01mif\u001b[39;00m cell:\n\u001b[1;32m--> 122\u001b[0m     \u001b[43mexec\u001b[49m\u001b[43m(\u001b[49m\u001b[43mcell\u001b[49m\u001b[43m,\u001b[49m\u001b[43m \u001b[49m\u001b[43mlocal_ns\u001b[49m\u001b[43m)\u001b[49m\n\u001b[0;32m    124\u001b[0m args \u001b[38;5;241m=\u001b[39m line\u001b[38;5;241m.\u001b[39msplit()\n\u001b[0;32m    125\u001b[0m \u001b[38;5;28;01mif\u001b[39;00m \u001b[38;5;129;01mnot\u001b[39;00m \u001b[38;5;28mlen\u001b[39m(args) \u001b[38;5;129;01mor\u001b[39;00m \u001b[38;5;124m\"\u001b[39m\u001b[38;5;124m-h\u001b[39m\u001b[38;5;124m\"\u001b[39m \u001b[38;5;129;01min\u001b[39;00m args \u001b[38;5;129;01mor\u001b[39;00m \u001b[38;5;124m\"\u001b[39m\u001b[38;5;124m--help\u001b[39m\u001b[38;5;124m\"\u001b[39m \u001b[38;5;129;01min\u001b[39;00m args \u001b[38;5;129;01mor\u001b[39;00m \u001b[38;5;124m\"\u001b[39m\u001b[38;5;124m--version\u001b[39m\u001b[38;5;124m\"\u001b[39m \u001b[38;5;129;01min\u001b[39;00m args:\n",
      "File \u001b[1;32m<string>:83\u001b[0m\n",
      "File \u001b[1;32m~\\AppData\\Local\\Programs\\Python\\Python312\\Lib\\site-packages\\manim\\scene\\scene.py:147\u001b[0m, in \u001b[0;36mScene.__init__\u001b[1;34m(self, renderer, camera_class, always_update_mobjects, random_seed, skip_animations)\u001b[0m\n\u001b[0;32m    145\u001b[0m \u001b[38;5;28;01melse\u001b[39;00m:\n\u001b[0;32m    146\u001b[0m     \u001b[38;5;28mself\u001b[39m\u001b[38;5;241m.\u001b[39mrenderer \u001b[38;5;241m=\u001b[39m renderer\n\u001b[1;32m--> 147\u001b[0m \u001b[38;5;28;43mself\u001b[39;49m\u001b[38;5;241;43m.\u001b[39;49m\u001b[43mrenderer\u001b[49m\u001b[38;5;241;43m.\u001b[39;49m\u001b[43minit_scene\u001b[49m\u001b[43m(\u001b[49m\u001b[38;5;28;43mself\u001b[39;49m\u001b[43m)\u001b[49m\n\u001b[0;32m    149\u001b[0m \u001b[38;5;28mself\u001b[39m\u001b[38;5;241m.\u001b[39mmobjects \u001b[38;5;241m=\u001b[39m []\n\u001b[0;32m    150\u001b[0m \u001b[38;5;66;03m# TODO, remove need for foreground mobjects\u001b[39;00m\n",
      "File \u001b[1;32m~\\AppData\\Local\\Programs\\Python\\Python312\\Lib\\site-packages\\manim\\renderer\\cairo_renderer.py:54\u001b[0m, in \u001b[0;36mCairoRenderer.init_scene\u001b[1;34m(self, scene)\u001b[0m\n\u001b[0;32m     53\u001b[0m \u001b[38;5;28;01mdef\u001b[39;00m \u001b[38;5;21minit_scene\u001b[39m(\u001b[38;5;28mself\u001b[39m, scene):\n\u001b[1;32m---> 54\u001b[0m     \u001b[38;5;28mself\u001b[39m\u001b[38;5;241m.\u001b[39mfile_writer: Any \u001b[38;5;241m=\u001b[39m \u001b[38;5;28;43mself\u001b[39;49m\u001b[38;5;241;43m.\u001b[39;49m\u001b[43m_file_writer_class\u001b[49m\u001b[43m(\u001b[49m\n\u001b[0;32m     55\u001b[0m \u001b[43m        \u001b[49m\u001b[38;5;28;43mself\u001b[39;49m\u001b[43m,\u001b[49m\n\u001b[0;32m     56\u001b[0m \u001b[43m        \u001b[49m\u001b[43mscene\u001b[49m\u001b[38;5;241;43m.\u001b[39;49m\u001b[38;5;18;43m__class__\u001b[39;49m\u001b[38;5;241;43m.\u001b[39;49m\u001b[38;5;18;43m__name__\u001b[39;49m\u001b[43m,\u001b[49m\n\u001b[0;32m     57\u001b[0m \u001b[43m    \u001b[49m\u001b[43m)\u001b[49m\n",
      "File \u001b[1;32m~\\AppData\\Local\\Programs\\Python\\Python312\\Lib\\site-packages\\manim\\scene\\scene_file_writer.py:88\u001b[0m, in \u001b[0;36mSceneFileWriter.__init__\u001b[1;34m(self, renderer, scene_name, **kwargs)\u001b[0m\n\u001b[0;32m     86\u001b[0m \u001b[38;5;66;03m# fail fast if ffmpeg is not found\u001b[39;00m\n\u001b[0;32m     87\u001b[0m \u001b[38;5;28;01mif\u001b[39;00m \u001b[38;5;129;01mnot\u001b[39;00m ensure_executable(Path(config\u001b[38;5;241m.\u001b[39mffmpeg_executable)):\n\u001b[1;32m---> 88\u001b[0m     \u001b[38;5;28;01mraise\u001b[39;00m \u001b[38;5;167;01mRuntimeError\u001b[39;00m(\n\u001b[0;32m     89\u001b[0m         \u001b[38;5;124m\"\u001b[39m\u001b[38;5;124mManim could not find ffmpeg, which is required for generating video output.\u001b[39m\u001b[38;5;130;01m\\n\u001b[39;00m\u001b[38;5;124m\"\u001b[39m\n\u001b[0;32m     90\u001b[0m         \u001b[38;5;124m\"\u001b[39m\u001b[38;5;124mFor installing ffmpeg please consult https://docs.manim.community/en/stable/installation.html\u001b[39m\u001b[38;5;130;01m\\n\u001b[39;00m\u001b[38;5;124m\"\u001b[39m\n\u001b[0;32m     91\u001b[0m         \u001b[38;5;124m\"\u001b[39m\u001b[38;5;124mMake sure to either add ffmpeg to the PATH environment variable\u001b[39m\u001b[38;5;130;01m\\n\u001b[39;00m\u001b[38;5;124m\"\u001b[39m\n\u001b[0;32m     92\u001b[0m         \u001b[38;5;124m\"\u001b[39m\u001b[38;5;124mor set path to the ffmpeg executable under the ffmpeg header in Manim\u001b[39m\u001b[38;5;124m'\u001b[39m\u001b[38;5;124ms configuration.\u001b[39m\u001b[38;5;124m\"\u001b[39m\n\u001b[0;32m     93\u001b[0m     )\n",
      "\u001b[1;31mRuntimeError\u001b[0m: Manim could not find ffmpeg, which is required for generating video output.\nFor installing ffmpeg please consult https://docs.manim.community/en/stable/installation.html\nMake sure to either add ffmpeg to the PATH environment variable\nor set path to the ffmpeg executable under the ffmpeg header in Manim's configuration."
     ]
    }
   ],
   "source": [
    "%%manim -qm -v WARNING RollingDisk\n",
    "class RollingDisk(Scene):\n",
    "    def construct(self):\n",
    "        # Definir parâmetros\n",
    "        radius = 2  # Raio do círculo\n",
    "        velocity = 2  # Velocidade linear do centro de massa\n",
    "        omega = velocity / radius  # Velocidade angular\n",
    "        disk_color = BLUE\n",
    "\n",
    "        # Criar o disco (corpo rígido) e posicioná-lo à esquerda\n",
    "        disk = Circle(radius=radius, color=disk_color)\n",
    "        disk.shift(3 * LEFT)  # Inicia deslocado para a esquerda\n",
    "        \n",
    "        # Vetores de velocidade e aceleração\n",
    "        velocity_vectors = VGroup()\n",
    "        acceleration_vectors = VGroup()\n",
    "        dashed_lines = VGroup()\n",
    "\n",
    "        # Função que cria retas tracejadas e vetores de velocidade/aceleração\n",
    "        def add_velocity_and_acceleration_vectors():\n",
    "            nonlocal dashed_lines, velocity_vectors, acceleration_vectors\n",
    "            \n",
    "            # Coordenadas de alguns pontos na borda do disco\n",
    "            angles = np.linspace(0, 2*np.pi, 8, endpoint=False)\n",
    "            cir_point = disk.get_bottom()  # Ponto CIR (contato com o chão)\n",
    "            \n",
    "            for angle in angles:\n",
    "                # Ponto na borda do disco\n",
    "                point = disk.get_center() + radius * np.array([np.cos(angle), np.sin(angle), 0])\n",
    "                # Distância do ponto ao CIR (módulo da velocidade proporcional à distância)\n",
    "                distance_to_cir = np.linalg.norm(point - cir_point)\n",
    "                \n",
    "                # Reta tracejada entre o ponto e o CIR\n",
    "                dashed_line = DashedLine(cir_point, point, color=WHITE)\n",
    "                dashed_lines.add(dashed_line)\n",
    "                \n",
    "                # Vetor de velocidade perpendicular à reta entre o ponto e o CIR\n",
    "                direction_to_cir = point - cir_point\n",
    "                velocity_direction = np.array([-direction_to_cir[1], direction_to_cir[0], 0]) / np.linalg.norm(direction_to_cir)\n",
    "                velocity_vector = Arrow(point, point + 0.5 * distance_to_cir * velocity_direction, buff=0, color=GREEN)\n",
    "                velocity_vectors.add(velocity_vector)\n",
    "                \n",
    "                # Vetor de aceleração (direção radial oposta)\n",
    "                acceleration_vector = Arrow(point, point - 0.5 * np.array([np.cos(angle), np.sin(angle), 0]), buff=0, color=RED)\n",
    "                acceleration_vectors.add(acceleration_vector)\n",
    "\n",
    "        # Movimentar o disco da esquerda para a direita\n",
    "        self.play(disk.animate.shift(6 * RIGHT), run_time=3)\n",
    "        self.wait()\n",
    "\n",
    "        # Pausar e aplicar zoom movendo o disco para o centro da cena\n",
    "        self.play(disk.animate.move_to(ORIGIN), run_time=2)\n",
    "        self.wait()\n",
    "\n",
    "        # Mostrar o CIR (Centro Instantâneo de Rotação)\n",
    "        cir = Dot(disk.get_bottom(), color=RED)\n",
    "        cir_text = Text(\"CIR\", font_size=24).next_to(cir, DOWN)\n",
    "        self.play(FadeIn(cir, cir_text))\n",
    "        self.wait()\n",
    "\n",
    "        # Adicionar retas tracejadas e vetores de velocidade e aceleração\n",
    "        add_velocity_and_acceleration_vectors()\n",
    "        self.play(Create(dashed_lines), run_time=2)\n",
    "        self.wait()\n",
    "\n",
    "        # Mostrar vetores de velocidade nos pontos da borda\n",
    "        self.play(Create(velocity_vectors), run_time=2)\n",
    "        self.wait()\n",
    "\n",
    "        # Mostrar vetores de aceleração nos pontos da borda\n",
    "        self.play(Create(acceleration_vectors), run_time=2)\n",
    "        self.wait()\n",
    "\n",
    "        # Mostrar o ponto central do disco no final\n",
    "        center_dot = Dot(disk.get_center(), color=YELLOW)\n",
    "        center_text = Text(\"Centro\", font_size=24).next_to(center_dot, UP)\n",
    "        self.play(FadeIn(center_dot, center_text))\n",
    "        self.wait()\n",
    "\n",
    "        # Finalizar a cena\n",
    "        self.wait()\n",
    "\n",
    "# Renderizando a cena\n",
    "RollingDisk().render()\n"
   ]
  },
  {
   "cell_type": "code",
   "execution_count": null,
   "id": "60195189-e1b1-496d-b9b6-27e27f1f900b",
   "metadata": {},
   "outputs": [],
   "source": []
  }
 ],
 "metadata": {
  "kernelspec": {
   "display_name": "Python 3 (ipykernel)",
   "language": "python",
   "name": "python3"
  },
  "language_info": {
   "codemirror_mode": {
    "name": "ipython",
    "version": 3
   },
   "file_extension": ".py",
   "mimetype": "text/x-python",
   "name": "python",
   "nbconvert_exporter": "python",
   "pygments_lexer": "ipython3",
   "version": "3.12.1"
  }
 },
 "nbformat": 4,
 "nbformat_minor": 5
}
